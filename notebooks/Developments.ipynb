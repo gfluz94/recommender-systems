{
 "cells": [
  {
   "attachments": {},
   "cell_type": "markdown",
   "metadata": {},
   "source": [
    "### Exploration\n",
    "\n",
    "The main goal of this notebook is to enable exploration and testing, before the actual python scripts are properly written. Hence, we will download the data and test all recommender system algorithms we are aiming at:\n",
    "\n",
    "* Collaborative Filtering;\n",
    "\n",
    "* Matrix Factorization;\n",
    "\n",
    "* Content-Based.\n",
    "\n",
    "We will attempt to use the whole 20M movielens dataset, instead of using just a slice of it. In order to achieve it, we need to carefully choose the right data strucutres for each strategy and approach."
   ]
  },
  {
   "attachments": {},
   "cell_type": "markdown",
   "metadata": {},
   "source": [
    "### Libraries"
   ]
  },
  {
   "cell_type": "code",
   "execution_count": 1,
   "metadata": {},
   "outputs": [],
   "source": [
    "from typing import Any, List, Optional, Tuple\n",
    "from tqdm import tqdm\n",
    "import os\n",
    "from datetime import datetime\n",
    "import pandas as pd\n",
    "import numpy as np\n",
    "import matplotlib.pyplot as plt\n",
    "import seaborn as sns\n",
    "import scipy\n",
    "import boto3"
   ]
  },
  {
   "attachments": {},
   "cell_type": "markdown",
   "metadata": {},
   "source": [
    "### Data"
   ]
  },
  {
   "cell_type": "code",
   "execution_count": 2,
   "metadata": {},
   "outputs": [],
   "source": [
    "FILES = [\"movies.csv\", \"ratings.csv\"]"
   ]
  },
  {
   "cell_type": "code",
   "execution_count": 3,
   "metadata": {},
   "outputs": [],
   "source": [
    "bucket_name = \"data-ml-gfluz94\"\n",
    "target_folder = \"../data\"\n",
    "\n",
    "missing_files = (\n",
    "    set(filter(lambda x: x.split(\".\")[-1] == \"csv\", os.listdir(target_folder))) - \n",
    "    set(FILES)\n",
    ")\n",
    "\n",
    "if len(missing_files) > 0:\n",
    "\n",
    "    client = boto3.client(\n",
    "        \"s3\", aws_access_key_id=os.environ[\"AWS_ACCESS_KEY\"], aws_secret_access_key=os.environ[\"AWS_SECRET_KEY\"]\n",
    "    )\n",
    "    content_response = client.list_objects(Bucket=bucket_name)\n",
    "\n",
    "    for content in content_response[\"Contents\"]:\n",
    "        client.download_file(\n",
    "            Bucket=bucket_name,\n",
    "            Key=content[\"Key\"],\n",
    "            Filename=os.path.join(target_folder, content[\"Key\"]),\n",
    "        )"
   ]
  },
  {
   "cell_type": "code",
   "execution_count": 4,
   "metadata": {},
   "outputs": [],
   "source": [
    "df_movies = pd.read_csv(os.path.join(target_folder, \"movies.csv\"))\n",
    "df_ratings = pd.read_csv(os.path.join(target_folder, \"ratings.csv\"))"
   ]
  },
  {
   "cell_type": "code",
   "execution_count": 5,
   "metadata": {},
   "outputs": [
    {
     "name": "stdout",
     "output_type": "stream",
     "text": [
      "<class 'pandas.core.frame.DataFrame'>\n",
      "RangeIndex: 62423 entries, 0 to 62422\n",
      "Data columns (total 3 columns):\n",
      " #   Column   Non-Null Count  Dtype \n",
      "---  ------   --------------  ----- \n",
      " 0   movieId  62423 non-null  int64 \n",
      " 1   title    62423 non-null  object\n",
      " 2   genres   62423 non-null  object\n",
      "dtypes: int64(1), object(2)\n",
      "memory usage: 1.4+ MB\n"
     ]
    }
   ],
   "source": [
    "df_movies.info()"
   ]
  },
  {
   "cell_type": "code",
   "execution_count": 6,
   "metadata": {},
   "outputs": [
    {
     "name": "stdout",
     "output_type": "stream",
     "text": [
      "<class 'pandas.core.frame.DataFrame'>\n",
      "RangeIndex: 25000095 entries, 0 to 25000094\n",
      "Data columns (total 4 columns):\n",
      " #   Column     Dtype  \n",
      "---  ------     -----  \n",
      " 0   userId     int64  \n",
      " 1   movieId    int64  \n",
      " 2   rating     float64\n",
      " 3   timestamp  int64  \n",
      "dtypes: float64(1), int64(3)\n",
      "memory usage: 762.9 MB\n"
     ]
    }
   ],
   "source": [
    "df_ratings.info()"
   ]
  },
  {
   "cell_type": "code",
   "execution_count": 7,
   "metadata": {},
   "outputs": [
    {
     "data": {
      "text/html": [
       "<div>\n",
       "<style scoped>\n",
       "    .dataframe tbody tr th:only-of-type {\n",
       "        vertical-align: middle;\n",
       "    }\n",
       "\n",
       "    .dataframe tbody tr th {\n",
       "        vertical-align: top;\n",
       "    }\n",
       "\n",
       "    .dataframe thead th {\n",
       "        text-align: right;\n",
       "    }\n",
       "</style>\n",
       "<table border=\"1\" class=\"dataframe\">\n",
       "  <thead>\n",
       "    <tr style=\"text-align: right;\">\n",
       "      <th></th>\n",
       "      <th>movieId</th>\n",
       "      <th>title</th>\n",
       "      <th>genres</th>\n",
       "    </tr>\n",
       "  </thead>\n",
       "  <tbody>\n",
       "    <tr>\n",
       "      <th>0</th>\n",
       "      <td>1</td>\n",
       "      <td>Toy Story (1995)</td>\n",
       "      <td>Adventure|Animation|Children|Comedy|Fantasy</td>\n",
       "    </tr>\n",
       "    <tr>\n",
       "      <th>1</th>\n",
       "      <td>2</td>\n",
       "      <td>Jumanji (1995)</td>\n",
       "      <td>Adventure|Children|Fantasy</td>\n",
       "    </tr>\n",
       "    <tr>\n",
       "      <th>2</th>\n",
       "      <td>3</td>\n",
       "      <td>Grumpier Old Men (1995)</td>\n",
       "      <td>Comedy|Romance</td>\n",
       "    </tr>\n",
       "    <tr>\n",
       "      <th>3</th>\n",
       "      <td>4</td>\n",
       "      <td>Waiting to Exhale (1995)</td>\n",
       "      <td>Comedy|Drama|Romance</td>\n",
       "    </tr>\n",
       "    <tr>\n",
       "      <th>4</th>\n",
       "      <td>5</td>\n",
       "      <td>Father of the Bride Part II (1995)</td>\n",
       "      <td>Comedy</td>\n",
       "    </tr>\n",
       "  </tbody>\n",
       "</table>\n",
       "</div>"
      ],
      "text/plain": [
       "   movieId                               title  \\\n",
       "0        1                    Toy Story (1995)   \n",
       "1        2                      Jumanji (1995)   \n",
       "2        3             Grumpier Old Men (1995)   \n",
       "3        4            Waiting to Exhale (1995)   \n",
       "4        5  Father of the Bride Part II (1995)   \n",
       "\n",
       "                                        genres  \n",
       "0  Adventure|Animation|Children|Comedy|Fantasy  \n",
       "1                   Adventure|Children|Fantasy  \n",
       "2                               Comedy|Romance  \n",
       "3                         Comedy|Drama|Romance  \n",
       "4                                       Comedy  "
      ]
     },
     "metadata": {},
     "output_type": "display_data"
    },
    {
     "data": {
      "text/html": [
       "<div>\n",
       "<style scoped>\n",
       "    .dataframe tbody tr th:only-of-type {\n",
       "        vertical-align: middle;\n",
       "    }\n",
       "\n",
       "    .dataframe tbody tr th {\n",
       "        vertical-align: top;\n",
       "    }\n",
       "\n",
       "    .dataframe thead th {\n",
       "        text-align: right;\n",
       "    }\n",
       "</style>\n",
       "<table border=\"1\" class=\"dataframe\">\n",
       "  <thead>\n",
       "    <tr style=\"text-align: right;\">\n",
       "      <th></th>\n",
       "      <th>userId</th>\n",
       "      <th>movieId</th>\n",
       "      <th>rating</th>\n",
       "      <th>timestamp</th>\n",
       "    </tr>\n",
       "  </thead>\n",
       "  <tbody>\n",
       "    <tr>\n",
       "      <th>0</th>\n",
       "      <td>1</td>\n",
       "      <td>296</td>\n",
       "      <td>5.0</td>\n",
       "      <td>1147880044</td>\n",
       "    </tr>\n",
       "    <tr>\n",
       "      <th>1</th>\n",
       "      <td>1</td>\n",
       "      <td>306</td>\n",
       "      <td>3.5</td>\n",
       "      <td>1147868817</td>\n",
       "    </tr>\n",
       "    <tr>\n",
       "      <th>2</th>\n",
       "      <td>1</td>\n",
       "      <td>307</td>\n",
       "      <td>5.0</td>\n",
       "      <td>1147868828</td>\n",
       "    </tr>\n",
       "    <tr>\n",
       "      <th>3</th>\n",
       "      <td>1</td>\n",
       "      <td>665</td>\n",
       "      <td>5.0</td>\n",
       "      <td>1147878820</td>\n",
       "    </tr>\n",
       "    <tr>\n",
       "      <th>4</th>\n",
       "      <td>1</td>\n",
       "      <td>899</td>\n",
       "      <td>3.5</td>\n",
       "      <td>1147868510</td>\n",
       "    </tr>\n",
       "  </tbody>\n",
       "</table>\n",
       "</div>"
      ],
      "text/plain": [
       "   userId  movieId  rating   timestamp\n",
       "0       1      296     5.0  1147880044\n",
       "1       1      306     3.5  1147868817\n",
       "2       1      307     5.0  1147868828\n",
       "3       1      665     5.0  1147878820\n",
       "4       1      899     3.5  1147868510"
      ]
     },
     "metadata": {},
     "output_type": "display_data"
    }
   ],
   "source": [
    "display(df_movies.head())\n",
    "display(df_ratings.head())"
   ]
  },
  {
   "attachments": {},
   "cell_type": "markdown",
   "metadata": {},
   "source": [
    "Adjusting and preprocessing the data"
   ]
  },
  {
   "cell_type": "code",
   "execution_count": 8,
   "metadata": {},
   "outputs": [],
   "source": [
    "df_ratings[\"timestamp\"] = df_ratings[\"timestamp\"].apply(datetime.utcfromtimestamp)"
   ]
  },
  {
   "cell_type": "code",
   "execution_count": 9,
   "metadata": {},
   "outputs": [
    {
     "data": {
      "text/html": [
       "<div>\n",
       "<style scoped>\n",
       "    .dataframe tbody tr th:only-of-type {\n",
       "        vertical-align: middle;\n",
       "    }\n",
       "\n",
       "    .dataframe tbody tr th {\n",
       "        vertical-align: top;\n",
       "    }\n",
       "\n",
       "    .dataframe thead th {\n",
       "        text-align: right;\n",
       "    }\n",
       "</style>\n",
       "<table border=\"1\" class=\"dataframe\">\n",
       "  <thead>\n",
       "    <tr style=\"text-align: right;\">\n",
       "      <th></th>\n",
       "      <th>userId</th>\n",
       "      <th>movieId</th>\n",
       "      <th>rating</th>\n",
       "      <th>timestamp</th>\n",
       "    </tr>\n",
       "  </thead>\n",
       "  <tbody>\n",
       "    <tr>\n",
       "      <th>0</th>\n",
       "      <td>1</td>\n",
       "      <td>296</td>\n",
       "      <td>5.0</td>\n",
       "      <td>2006-05-17 15:34:04</td>\n",
       "    </tr>\n",
       "    <tr>\n",
       "      <th>1</th>\n",
       "      <td>1</td>\n",
       "      <td>306</td>\n",
       "      <td>3.5</td>\n",
       "      <td>2006-05-17 12:26:57</td>\n",
       "    </tr>\n",
       "    <tr>\n",
       "      <th>2</th>\n",
       "      <td>1</td>\n",
       "      <td>307</td>\n",
       "      <td>5.0</td>\n",
       "      <td>2006-05-17 12:27:08</td>\n",
       "    </tr>\n",
       "    <tr>\n",
       "      <th>3</th>\n",
       "      <td>1</td>\n",
       "      <td>665</td>\n",
       "      <td>5.0</td>\n",
       "      <td>2006-05-17 15:13:40</td>\n",
       "    </tr>\n",
       "    <tr>\n",
       "      <th>4</th>\n",
       "      <td>1</td>\n",
       "      <td>899</td>\n",
       "      <td>3.5</td>\n",
       "      <td>2006-05-17 12:21:50</td>\n",
       "    </tr>\n",
       "  </tbody>\n",
       "</table>\n",
       "</div>"
      ],
      "text/plain": [
       "   userId  movieId  rating           timestamp\n",
       "0       1      296     5.0 2006-05-17 15:34:04\n",
       "1       1      306     3.5 2006-05-17 12:26:57\n",
       "2       1      307     5.0 2006-05-17 12:27:08\n",
       "3       1      665     5.0 2006-05-17 15:13:40\n",
       "4       1      899     3.5 2006-05-17 12:21:50"
      ]
     },
     "metadata": {},
     "output_type": "display_data"
    }
   ],
   "source": [
    "display(df_ratings.head())"
   ]
  },
  {
   "cell_type": "code",
   "execution_count": 10,
   "metadata": {},
   "outputs": [
    {
     "name": "stdout",
     "output_type": "stream",
     "text": [
      "Total users: 162541\n",
      "Total movies: 59047\n"
     ]
    }
   ],
   "source": [
    "n_users = df_ratings.userId.nunique()\n",
    "n_movies = df_ratings.movieId.nunique()\n",
    "\n",
    "print(f\"Total users: {n_users}\")\n",
    "print(f\"Total movies: {n_movies}\")"
   ]
  },
  {
   "attachments": {},
   "cell_type": "markdown",
   "metadata": {},
   "source": [
    "In a sense, the `movies` dataset contains metadata on the actual movie - the name and the genres. We will see later that the genres can be turned into useful features for a content-based approach, however for now we are mostly concerned with the `ratings` dataset.\n",
    "\n",
    "Since we have roughly 25M entries (~1GB), it will be impossible to fit all this data into memory in a matrix representation - users vs. ratings. Especially because the dimensionality (162,541 x 59,047) is high and there is **high sparsity** - a lot of 0s due to the fact that the users haven't watched a lot of movies.\n",
    "\n",
    "Hence, we have some options to deal with this huge amount of data - and each one of them might be useful according to the chosen algorithm:\n",
    "\n",
    "* **Dictionary**: With a dictionary representation, we can considerably reduce the dimensionality, since the movies that haven't been rated by the user won't be taken into account for that particular user;\n",
    "\n",
    "* **Sparse Matrix**: `scipy` is a really useful tool for us to encode this information, which is computationally efficient for dealing with custom datasets being fed to neural networks."
   ]
  },
  {
   "attachments": {},
   "cell_type": "markdown",
   "metadata": {},
   "source": [
    "### General EDA and Preprocessing\n",
    "\n",
    "It might be useful to check for possible outliers in ratings, so that we have a more robust dataset for our training purposes."
   ]
  },
  {
   "cell_type": "code",
   "execution_count": 11,
   "metadata": {},
   "outputs": [
    {
     "data": {
      "text/plain": [
       "count    162541.000000\n",
       "mean        153.807932\n",
       "std         268.047590\n",
       "min          20.000000\n",
       "1%           20.000000\n",
       "5%           22.000000\n",
       "10%          24.000000\n",
       "25%          36.000000\n",
       "50%          71.000000\n",
       "75%         162.000000\n",
       "90%         353.000000\n",
       "95%         554.000000\n",
       "99%        1228.000000\n",
       "max       32202.000000\n",
       "Name: n_movies_rated, dtype: float64"
      ]
     },
     "metadata": {},
     "output_type": "display_data"
    },
    {
     "data": {
      "image/png": "[encoded data removed]",
      "text/plain": [
       "<Figure size 640x480 with 1 Axes>"
      ]
     },
     "metadata": {
      "image/png": {
       "height": 413,
       "width": 578
      }
     },
     "output_type": "display_data"
    }
   ],
   "source": [
    "movies_rated_by_user = df_ratings.groupby(\"userId\").agg({\n",
    "    \"movieId\": pd.Series.nunique,\n",
    "}).rename(columns={\n",
    "    \"movieId\": \"n_movies_rated\",  \n",
    "}).reset_index()\n",
    "\n",
    "display(movies_rated_by_user[\"n_movies_rated\"].describe(percentiles=[\n",
    "    0.01, 0.05, 0.10, 0.25, 0.75, 0.90, 0.95, 0.99 \n",
    "]))\n",
    "movies_rated_by_user[\"n_movies_rated\"].hist();"
   ]
  },
  {
   "attachments": {},
   "cell_type": "markdown",
   "metadata": {},
   "source": [
    "We can clearly see that there is a user that has rated 32,202 movies!! That's more than 50% of the whole catalog. Hence, we are removing this user, in order not to pollute our analysis.\n",
    "\n",
    "On the other hand, we do not need to worry much about users who have rated few movies, since the minimum # of ratings is 20 - which is pretty much reasonable."
   ]
  },
  {
   "cell_type": "code",
   "execution_count": 12,
   "metadata": {},
   "outputs": [
    {
     "data": {
      "text/html": [
       "<div>\n",
       "<style scoped>\n",
       "    .dataframe tbody tr th:only-of-type {\n",
       "        vertical-align: middle;\n",
       "    }\n",
       "\n",
       "    .dataframe tbody tr th {\n",
       "        vertical-align: top;\n",
       "    }\n",
       "\n",
       "    .dataframe thead th {\n",
       "        text-align: right;\n",
       "    }\n",
       "</style>\n",
       "<table border=\"1\" class=\"dataframe\">\n",
       "  <thead>\n",
       "    <tr style=\"text-align: right;\">\n",
       "      <th></th>\n",
       "      <th>userId</th>\n",
       "      <th>n_movies_rated</th>\n",
       "    </tr>\n",
       "  </thead>\n",
       "  <tbody>\n",
       "    <tr>\n",
       "      <th>72314</th>\n",
       "      <td>72315</td>\n",
       "      <td>32202</td>\n",
       "    </tr>\n",
       "  </tbody>\n",
       "</table>\n",
       "</div>"
      ],
      "text/plain": [
       "       userId  n_movies_rated\n",
       "72314   72315           32202"
      ]
     },
     "execution_count": 12,
     "metadata": {},
     "output_type": "execute_result"
    }
   ],
   "source": [
    "movies_rated_by_user[movies_rated_by_user.n_movies_rated > 10_000]"
   ]
  },
  {
   "attachments": {},
   "cell_type": "markdown",
   "metadata": {},
   "source": [
    "Before removing this particular user, let's take a look at the movies as well:"
   ]
  },
  {
   "cell_type": "code",
   "execution_count": 13,
   "metadata": {},
   "outputs": [
    {
     "data": {
      "text/plain": [
       "count    59047.000000\n",
       "mean       423.393144\n",
       "std       2477.885821\n",
       "min          1.000000\n",
       "1%           1.000000\n",
       "5%           1.000000\n",
       "10%          1.000000\n",
       "25%          2.000000\n",
       "30%          2.000000\n",
       "40%          4.000000\n",
       "50%          6.000000\n",
       "75%         36.000000\n",
       "90%        413.000000\n",
       "95%       1503.400000\n",
       "99%       9941.620000\n",
       "max      81491.000000\n",
       "Name: n_ratings, dtype: float64"
      ]
     },
     "metadata": {},
     "output_type": "display_data"
    },
    {
     "data": {
      "image/png": "[encoded data removed]",
      "text/plain": [
       "<Figure size 640x480 with 1 Axes>"
      ]
     },
     "metadata": {
      "image/png": {
       "height": 413,
       "width": 570
      }
     },
     "output_type": "display_data"
    }
   ],
   "source": [
    "n_ratings_by_movie = df_ratings.groupby(\"movieId\").agg({\n",
    "    \"userId\": pd.Series.nunique,\n",
    "}).rename(columns={\n",
    "    \"userId\": \"n_ratings\",  \n",
    "}).reset_index()\n",
    "\n",
    "display(n_ratings_by_movie[\"n_ratings\"].describe(percentiles=[\n",
    "    0.01, 0.05, 0.10, 0.25, 0.30, 0.40, 0.75, 0.90, 0.95, 0.99 \n",
    "]))\n",
    "n_ratings_by_movie[\"n_ratings\"].hist();"
   ]
  },
  {
   "attachments": {},
   "cell_type": "markdown",
   "metadata": {},
   "source": [
    "There are roughly 25% of movies with a single rating. Since these ratings could bias the whole system, due to the vision of a single user, let's remove some movies. In practice, let's keep only movies with **at least 3 ratings**.\n",
    "\n",
    "On the other tail, we have a movie with ~80k ratings. Let's see which movie it is."
   ]
  },
  {
   "cell_type": "code",
   "execution_count": 14,
   "metadata": {},
   "outputs": [
    {
     "data": {
      "text/html": [
       "<div>\n",
       "<style scoped>\n",
       "    .dataframe tbody tr th:only-of-type {\n",
       "        vertical-align: middle;\n",
       "    }\n",
       "\n",
       "    .dataframe tbody tr th {\n",
       "        vertical-align: top;\n",
       "    }\n",
       "\n",
       "    .dataframe thead th {\n",
       "        text-align: right;\n",
       "    }\n",
       "</style>\n",
       "<table border=\"1\" class=\"dataframe\">\n",
       "  <thead>\n",
       "    <tr style=\"text-align: right;\">\n",
       "      <th></th>\n",
       "      <th>movieId</th>\n",
       "      <th>title</th>\n",
       "      <th>genres</th>\n",
       "    </tr>\n",
       "  </thead>\n",
       "  <tbody>\n",
       "    <tr>\n",
       "      <th>351</th>\n",
       "      <td>356</td>\n",
       "      <td>Forrest Gump (1994)</td>\n",
       "      <td>Comedy|Drama|Romance|War</td>\n",
       "    </tr>\n",
       "  </tbody>\n",
       "</table>\n",
       "</div>"
      ],
      "text/plain": [
       "     movieId                title                    genres\n",
       "351      356  Forrest Gump (1994)  Comedy|Drama|Romance|War"
      ]
     },
     "execution_count": 14,
     "metadata": {},
     "output_type": "execute_result"
    }
   ],
   "source": [
    "df_movies[df_movies[\"movieId\"] == n_ratings_by_movie.loc[n_ratings_by_movie[\"n_ratings\"] == 81491, \"movieId\"].iloc[0]]"
   ]
  },
  {
   "attachments": {},
   "cell_type": "markdown",
   "metadata": {},
   "source": [
    "*Forrest Gump* is indeed an awesome movie. We need to be careful with this title, because it is very likely that this will be one of the top recommendations for users that haven't watched it yet."
   ]
  },
  {
   "attachments": {},
   "cell_type": "markdown",
   "metadata": {},
   "source": [
    "Final functions for preprocessing:"
   ]
  },
  {
   "cell_type": "code",
   "execution_count": 15,
   "metadata": {},
   "outputs": [],
   "source": [
    "def summarize_ratings(\n",
    "    ratings_df: pd.DataFrame,\n",
    "    agg_column: str,\n",
    "    count_column: str,\n",
    "    output_name: str,\n",
    ") -> pd.DataFrame:\n",
    "    return ratings_df.groupby(agg_column).agg({\n",
    "        count_column: pd.Series.nunique,\n",
    "    }).rename(columns={\n",
    "        count_column: output_name,  \n",
    "    }).reset_index()\n",
    "\n",
    "\n",
    "def get_outliers(\n",
    "    df: pd.DataFrame,\n",
    "    values_column: str,\n",
    "    target_column: str,\n",
    "    lower_boundary: Optional[int] = None,\n",
    "    upper_boundary: Optional[int] = None,\n",
    ") -> List[Any]:\n",
    "    to_remove = set()\n",
    "    if lower_boundary:\n",
    "        to_remove |= set(df.loc[df[values_column] <= lower_boundary, target_column].tolist())\n",
    "    if upper_boundary:\n",
    "        to_remove |= set(df.loc[df[values_column] >= upper_boundary, target_column].tolist())\n",
    "    return list(to_remove)\n",
    "\n",
    "\n",
    "def remove_extreme_movies_and_users(\n",
    "    ratings_df: pd.DataFrame,\n",
    "    movie_id_column: str,\n",
    "    user_id_column: str,\n",
    "    movie_ratings_boundaries: Tuple[Optional[int], Optional[int]] = (None, None),\n",
    "    user_ratings_boundaries: Tuple[Optional[int], Optional[int]] = (None, None),\n",
    ") -> pd.DataFrame:\n",
    "    n_ratings = \"n_ratings\"\n",
    "    target_columns = [movie_id_column, user_id_column]\n",
    "    for target_column, boundaries in zip(\n",
    "        target_columns, [movie_ratings_boundaries, user_ratings_boundaries]\n",
    "    ):\n",
    "        stats = summarize_ratings(\n",
    "            ratings_df=ratings_df,\n",
    "            agg_column=target_column,\n",
    "            count_column=[column for column in target_columns if column != target_column][0],\n",
    "            output_name=n_ratings,\n",
    "        )\n",
    "        lower, upper = boundaries\n",
    "        to_remove = get_outliers(\n",
    "            df=stats,\n",
    "            values_column=n_ratings,\n",
    "            target_column=target_column,\n",
    "            lower_boundary=lower,\n",
    "            upper_boundary=upper,\n",
    "        )\n",
    "        if to_remove:\n",
    "            ratings_df = ratings_df[~ratings_df[target_column].isin(to_remove)].copy()\n",
    "    \n",
    "    return ratings_df"
   ]
  },
  {
   "cell_type": "code",
   "execution_count": 16,
   "metadata": {},
   "outputs": [],
   "source": [
    "df_ratings = remove_extreme_movies_and_users(\n",
    "    ratings_df=df_ratings,\n",
    "    movie_id_column=\"movieId\",\n",
    "    user_id_column=\"userId\",\n",
    "    movie_ratings_boundaries=(3, None),\n",
    "    user_ratings_boundaries=(None, 10_000),\n",
    ")"
   ]
  },
  {
   "cell_type": "code",
   "execution_count": 17,
   "metadata": {},
   "outputs": [
    {
     "name": "stdout",
     "output_type": "stream",
     "text": [
      "Total users: 162540\n",
      "Total movies: 36193\n"
     ]
    }
   ],
   "source": [
    "n_users = df_ratings.userId.nunique()\n",
    "n_movies = df_ratings.movieId.nunique()\n",
    "\n",
    "print(f\"Total users: {n_users}\")\n",
    "print(f\"Total movies: {n_movies}\")"
   ]
  },
  {
   "attachments": {},
   "cell_type": "markdown",
   "metadata": {},
   "source": [
    "### Collaborative Filtering\n",
    "\n",
    "There are three approaches we can follow:\n",
    "\n",
    "* __User-User__: We evaluate users who are most similar to each user, based either on ratings or on views, and then recommend new movies to them;\n",
    "\n",
    "* __Item-Item__: We evaluate items that are most similar to the items viewed or positively rated by each user, and then recommend them to the user base;\n",
    "\n",
    "* __ALS__: With *Alternating Least Squares*, we are able to train a neural network that learns simultaneously latent representations for users and movies. As an example, we could infer some movie features (romantic, violent, good actors and actresses, etc.) and user features as well (how they like each genre)."
   ]
  },
  {
   "attachments": {},
   "cell_type": "markdown",
   "metadata": {},
   "source": [
    "Preparing the data is very important - we need to split it into a training and a test set, so that we can compute our metrics.\n",
    "\n",
    "Since `timestamp` indicates the time when a given user watched the movie and rated it, it makes sense to respect the order of events, in order to be able to estimate the generalization capacity of our model accordingly."
   ]
  },
  {
   "cell_type": "code",
   "execution_count": 18,
   "metadata": {},
   "outputs": [
    {
     "name": "stdout",
     "output_type": "stream",
     "text": [
      "OOT Set after 2015-01-05 00:00:00\n",
      "Train Set: 17450998 entries | 121760 users | 20744 movies\n",
      "Test Set: 7484587 entries | 45371 users | 35711 movies\n"
     ]
    }
   ],
   "source": [
    "train_size = 0.70\n",
    "\n",
    "df_ratings = df_ratings.sort_values(by=\"timestamp\")\n",
    "time_cut = df_ratings.iloc[int(train_size * len(df_ratings))][\"timestamp\"].normalize()\n",
    "print(f\"OOT Set after {time_cut}\")\n",
    "\n",
    "df_train = df_ratings[df_ratings[\"timestamp\"] <= time_cut]\n",
    "df_test = df_ratings[df_ratings[\"timestamp\"] > time_cut]\n",
    "\n",
    "n_users = df_train.userId.nunique()\n",
    "n_movies = df_train.movieId.nunique()\n",
    "print(f\"Train Set: {len(df_train)} entries | {n_users} users | {n_movies} movies\")\n",
    "\n",
    "n_users = df_test.userId.nunique()\n",
    "n_movies = df_test.movieId.nunique()\n",
    "print(f\"Test Set: {len(df_test)} entries | {n_users} users | {n_movies} movies\")"
   ]
  },
  {
   "attachments": {},
   "cell_type": "markdown",
   "metadata": {},
   "source": [
    "1) User-User\n",
    "\n",
    "Here we have 162,540 different users, so that means quite a lot of computing overload. Hence, we need to optimize the computations by taking advantage of some data structure, such as dictionaries."
   ]
  },
  {
   "cell_type": "code",
   "execution_count": 53,
   "metadata": {},
   "outputs": [],
   "source": [
    "user_movies = df_train.groupby(\"userId\").agg({\"movieId\": list})[\"movieId\"].to_dict()"
   ]
  },
  {
   "cell_type": "code",
   "execution_count": 69,
   "metadata": {},
   "outputs": [],
   "source": [
    "user_movie_ratings = {\n",
    "    (int(user), int(movie)): rating\n",
    "    for user, movie, rating in df_train[[\"userId\", \"movieId\", \"rating\"]].values.tolist()\n",
    "}"
   ]
  },
  {
   "cell_type": "code",
   "execution_count": 187,
   "metadata": {},
   "outputs": [
    {
     "name": "stderr",
     "output_type": "stream",
     "text": [
      "0it [00:00, ?it/s]/Users/gfluz94/.recsys/lib/python3.9/site-packages/numpy/lib/function_base.py:2691: RuntimeWarning: invalid value encountered in true_divide\n",
      "  c /= stddev[:, None]\n",
      "/Users/gfluz94/.recsys/lib/python3.9/site-packages/numpy/lib/function_base.py:2692: RuntimeWarning: invalid value encountered in true_divide\n",
      "  c /= stddev[None, :]\n",
      "1it [01:32, 92.57s/it]\n"
     ]
    }
   ],
   "source": [
    "# Hyperparameters\n",
    "minimum_movies_in_common = 5\n",
    "maximum_similar_users = 25\n",
    "\n",
    "# Helper for iteration over N/2 instead of N\n",
    "user_user_similarities = {}\n",
    "\n",
    "# For predictions\n",
    "top_similar_users = {}\n",
    "avg_rating_by_user = {}\n",
    "\n",
    "\n",
    "users = list(user_movies.keys())\n",
    "\n",
    "for idx, i in tqdm(enumerate(users)):\n",
    "    movies_i = user_movies[i]\n",
    "    set_movies_i = set(movies_i)\n",
    "    ratings_i = {movie: user_movie_ratings[(i, movie)] for movie in set_movies_i}\n",
    "    mean_rating_i = np.mean(list(ratings_i.values()))\n",
    "    centered_ratings_i = {movie: rating - mean_rating_i for movie, rating in ratings_i.items()}\n",
    "\n",
    "    avg_rating_by_user[i] = avg_rating_by_user.get(i, mean_rating_i)\n",
    "\n",
    "    similar_users = {}\n",
    "    for j in users[:idx] + users[idx+1:]:\n",
    "        pair_i_j = (i, j) if i < j else (j, i)\n",
    "        movies_j = user_movies[j]\n",
    "        set_movies_j = set(movies_j)\n",
    "        common_movies = set_movies_i & set_movies_j\n",
    "        if len(common_movies) >= minimum_movies_in_common:\n",
    "            if not pair_i_j in user_user_similarities:\n",
    "                ratings_j = {movie: user_movie_ratings[(j, movie)] for movie in set_movies_j}\n",
    "                mean_rating_j = np.mean(list(ratings_j.values()))\n",
    "                avg_rating_by_user[j] = avg_rating_by_user.get(j, mean_rating_j)\n",
    "                centered_ratings_j = {movie: rating - mean_rating_j for movie, rating in ratings_j.items()}\n",
    "                user_user_similarities[pair_i_j] = np.corrcoef(\n",
    "                    x=[rating for movie, rating in centered_ratings_i.items() if movie in common_movies],\n",
    "                    y=[rating for movie, rating in centered_ratings_j.items() if movie in common_movies],\n",
    "                )[0, 1]\n",
    "            similar_users[j] = user_user_similarities[pair_i_j]\n",
    "\n",
    "    top_similar_users[i] = [u for u, r in sorted(similar_users.items(), key=lambda x: -x[1])[:maximum_similar_users]]"
   ]
  },
  {
   "cell_type": "code",
   "execution_count": 191,
   "metadata": {},
   "outputs": [
    {
     "data": {
      "text/plain": [
       "{16388: [18283,\n",
       "  43717,\n",
       "  18074,\n",
       "  18431,\n",
       "  15353,\n",
       "  17811,\n",
       "  17604,\n",
       "  82085,\n",
       "  1992,\n",
       "  2011,\n",
       "  18529,\n",
       "  15596,\n",
       "  18305,\n",
       "  17478,\n",
       "  17159,\n",
       "  106,\n",
       "  1969,\n",
       "  1364,\n",
       "  1825,\n",
       "  18859,\n",
       "  15389,\n",
       "  17289,\n",
       "  17901,\n",
       "  10626,\n",
       "  17377]}"
      ]
     },
     "execution_count": 191,
     "metadata": {},
     "output_type": "execute_result"
    }
   ],
   "source": [
    "top_similar_users"
   ]
  },
  {
   "cell_type": "code",
   "execution_count": 192,
   "metadata": {},
   "outputs": [],
   "source": [
    "# PREDICTION\n",
    "from functools import reduce\n",
    "\n",
    "user = 16388\n",
    "\n",
    "similar_users = top_similar_users[user]\n",
    "watched_movies = user_movies[user]\n",
    "movie_pool = set(\n",
    "    reduce(lambda a, b: a+b, [user_movies[u] for u in similar_users])\n",
    ")\n",
    "predicted_ratings = {}\n",
    "for movie in movie_pool:\n",
    "    if not movie in watched_movies:\n",
    "        ratings = []\n",
    "        for similar_user in similar_users:\n",
    "            if (similar_user, movie) in user_movie_ratings.keys():\n",
    "                ratings.append(user_movie_ratings[(similar_user, movie)] - avg_rating_by_user[similar_user])\n",
    "        predicted_ratings[movie] = np.mean(ratings) + avg_rating_by_user[user]"
   ]
  },
  {
   "cell_type": "code",
   "execution_count": 208,
   "metadata": {},
   "outputs": [
    {
     "data": {
      "text/plain": [
       "[(8949, 5.446843853820598),\n",
       " (58303, 5.446843853820598),\n",
       " (915, 5.427960438385458),\n",
       " (1235, 5.39922480620155),\n",
       " (4146, 5.325891472868217),\n",
       " (4388, 5.325891472868217),\n",
       " (89759, 5.325891472868217),\n",
       " (4006, 5.325891472868217),\n",
       " (370, 5.165891472868218),\n",
       " (2393, 5.065891472868217)]"
      ]
     },
     "execution_count": 208,
     "metadata": {},
     "output_type": "execute_result"
    }
   ],
   "source": [
    "sorted(predicted_ratings.items(), key=lambda x: -x[1])[:10]"
   ]
  },
  {
   "cell_type": "code",
   "execution_count": null,
   "metadata": {},
   "outputs": [],
   "source": []
  },
  {
   "cell_type": "code",
   "execution_count": null,
   "metadata": {},
   "outputs": [],
   "source": []
  }
 ],
 "metadata": {
  "kernelspec": {
   "display_name": ".recsys",
   "language": "python",
   "name": "python3"
  },
  "language_info": {
   "codemirror_mode": {
    "name": "ipython",
    "version": 3
   },
   "file_extension": ".py",
   "mimetype": "text/x-python",
   "name": "python",
   "nbconvert_exporter": "python",
   "pygments_lexer": "ipython3",
   "version": "3.9.7"
  },
  "orig_nbformat": 4,
  "vscode": {
   "interpreter": {
    "hash": "41eb992b4910f4c8f291257e2886c173659271f1b8a716ee8d08e6891df26794"
   }
  }
 },
 "nbformat": 4,
 "nbformat_minor": 2
}
